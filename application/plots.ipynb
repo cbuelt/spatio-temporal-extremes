{
 "cells": [
  {
   "cell_type": "code",
   "execution_count": null,
   "metadata": {},
   "outputs": [],
   "source": [
    "import numpy as np \n",
    "import xarray as xr\n",
    "import matplotlib.pyplot as plt\n",
    "import cartopy\n",
    "import datetime\n",
    "import cartopy.crs as ccrs\n",
    "import cartopy.feature as cfeature\n",
    "import cartopy.io.shapereader as shpreader\n",
    "import cmcrameri\n",
    "from matplotlib import cm\n",
    "from matplotlib.ticker import LinearLocator\n",
    "from matplotlib.colors import Normalize\n",
    "import sys\n",
    "import os\n",
    "import pyreadr\n",
    "from utils import plot_cities, gev2frech, get_gev_params, f_madogram, frech2gev\n",
    "sys.path.insert(1, os.path.join(sys.path[0], \"..\"))\n",
    "from evaluation.metrics import *"
   ]
  },
  {
   "cell_type": "code",
   "execution_count": null,
   "metadata": {},
   "outputs": [],
   "source": [
    "plot_path = \"../../plots/\""
   ]
  },
  {
   "cell_type": "code",
   "execution_count": null,
   "metadata": {},
   "outputs": [],
   "source": [
    "plt.style.use('seaborn-v0_8-whitegrid')\n",
    "cmap_name = \"cmc.roma_r\"\n",
    "cmap = plt.get_cmap(cmap_name)\n",
    "plt.rcParams['image.cmap'] = cmap_name\n",
    "\n",
    "colors = {\"True\" : \"black\", \"PL\": cmap(0.65), \"ABC\": cmap(0.75), \"CNN\": cmap(0.3), \"CNN_ES\": cmap(0.1), \"CNN_direct\": cmap(0.95)}"
   ]
  },
  {
   "cell_type": "code",
   "execution_count": null,
   "metadata": {},
   "outputs": [],
   "source": [
    "ticksize = 20\n",
    "fontsize = 28\n",
    "axsize = 25\n",
    "legendsize = 20\n",
    "titlesize = 30\n",
    "lw = 4"
   ]
  },
  {
   "cell_type": "code",
   "execution_count": null,
   "metadata": {},
   "outputs": [],
   "source": [
    "## Coordinates\n",
    "lons = np.linspace(6.38,7.48,30)\n",
    "lats = np.linspace(50.27,50.97,30)\n",
    "lon2d, lat2d = np.meshgrid(lons, lats)"
   ]
  },
  {
   "cell_type": "markdown",
   "metadata": {},
   "source": [
    "# Processed data"
   ]
  },
  {
   "cell_type": "code",
   "execution_count": null,
   "metadata": {},
   "outputs": [],
   "source": [
    "path = \"../data/application/data/\"\n",
    "year = \"2023\"\n",
    "data = xr.open_dataset(path + f\"{year}_month_max.nc\").pr"
   ]
  },
  {
   "cell_type": "code",
   "execution_count": null,
   "metadata": {},
   "outputs": [],
   "source": [
    "fig, axs = plt.subplots(1, 3, subplot_kw={'projection': ccrs.PlateCarree()},figsize=(22,5))\n",
    "months = [\"June\", \"July\", \"August\"]\n",
    "\n",
    "for i in range(3):\n",
    "    ger_shape = list(shpreader.Reader(path+\"ger_shape/gadm41_DEU_3.shp\").geometries())\n",
    "    axs[i].add_geometries(ger_shape, ccrs.PlateCarree(),\n",
    "                    edgecolor='black', facecolor = \"None\", lw = 0.3)\n",
    "    pcm = axs[i].pcolormesh(lons, lats, data.isel(time = i))\n",
    "    cb = fig.colorbar(pcm, ax=axs[i],  pad = 0.01, shrink = 10, aspect = 5.14)\n",
    "    cb.set_label(label=\"Total precipitation [mm]\",size=18)\n",
    "    cb.ax.tick_params(labelsize=16)\n",
    "    plot_cities(axs[i])\n",
    "    axs[i].set_title(f\"{months[i]}\", fontsize = fontsize)\n",
    "    gl = axs[i].gridlines(draw_labels=True)\n",
    "    gl.top_labels = False\n",
    "    gl.right_labels = False\n",
    "    gl.xlines = False\n",
    "    gl.ylines = False\n",
    "    if i > 0:\n",
    "        gl.left_labels = False\n",
    "    gl.xlabel_style = {'size': ticksize}\n",
    "    gl.ylabel_style = {'size': ticksize}\n",
    "    axs[i].set_aspect(\"auto\")\n",
    "\n",
    "\n",
    "\n",
    "plt.savefig(plot_path + f\"{year}_tp.png\", bbox_inches = \"tight\")"
   ]
  },
  {
   "cell_type": "markdown",
   "metadata": {},
   "source": [
    "# Analysis of Ahrtal"
   ]
  },
  {
   "cell_type": "code",
   "execution_count": null,
   "metadata": {},
   "outputs": [],
   "source": [
    "path = \"../../data/application/\"\n",
    "lons = np.linspace(6.38,7.48,30)\n",
    "lats = np.linspace(50.27,50.97,30)\n",
    "\n",
    "data_prev = xr.open_dataset(path + \"1931_2020_raw.nc\").pr\n",
    "data_prev = data_prev.isel(time = data_prev.time.dt.year >= 1980)\n",
    "data_2021 = xr.open_dataset(path + \"2021_raw.nc\").pr\n",
    "data_2022 = xr.open_dataset(path + \"2022_raw.nc\").pr\n",
    "data_new = xr.concat([data_2021, data_2022], dim = \"time\")"
   ]
  },
  {
   "cell_type": "code",
   "execution_count": null,
   "metadata": {},
   "outputs": [],
   "source": [
    "# Old data\n",
    "data_subset_prev = data_prev.where((data_prev.lon > lons[0]) & (data_prev.lon < lons[29]) & (data_prev.lat > lats[0]) & (data_prev.lat < lats[29]), drop = True).max(dim = [\"x\", \"y\"])\n",
    "\n",
    "# New data\n",
    "data_subset_new = data_new.where((data_new.lon > lons[0]) & (data_new.lon < lons[29]) & (data_new.lat > lats[0]) & (data_new.lat < lats[29]), drop = True).max(dim = [\"x\", \"y\"])\n",
    "\n",
    "# Append\n",
    "data_daily = xr.concat([data_subset_prev, data_subset_new], dim = \"time\")\n",
    "data_monthly = data_daily.resample(time = \"1MS\").max()"
   ]
  },
  {
   "cell_type": "code",
   "execution_count": null,
   "metadata": {},
   "outputs": [],
   "source": [
    "plt.style.use('seaborn-v0_8')\n",
    "fig, axs = plt.subplots(figsize = (15,5))\n",
    "\n",
    "data_daily.plot(color = cmap(0.2), lw = 1.5, alpha = 0.8, label = \"Daily maximum\")\n",
    "data_monthly.plot.scatter(color = cmap(0.8), label = \"Monthly maximum\", s = 50)\n",
    "\n",
    "axs.set_xlabel(None)\n",
    "axs.set_ylabel(\"Precipitation [mm]\", fontsize = axsize)\n",
    "axs.tick_params(axis='both', labelsize=ticksize)\n",
    "axs.set_xlim([datetime.date(1980, 1, 1), datetime.date(2022, 12, 31)])\n",
    "axs.set_ylim([0,175])\n",
    "axs.legend(fontsize = legendsize)\n",
    "\n",
    "# Add circle for July 2021\n",
    "axs.plot(datetime.date(2021, 7, 1), 168, 'o',ms=10 * 2, mec=cmap(0.99), mfc='none', mew=2)\n",
    "\n",
    "axs.yaxis.set_label_position(\"right\")\n",
    "axs.yaxis.tick_right()\n",
    "\n",
    "plt.savefig(plot_path + f\"precipitation_ts.pdf\", bbox_inches = \"tight\")"
   ]
  },
  {
   "cell_type": "markdown",
   "metadata": {},
   "source": [
    "# Results"
   ]
  },
  {
   "cell_type": "code",
   "execution_count": null,
   "metadata": {},
   "outputs": [],
   "source": [
    "model = \"powexp\"\n",
    "cnn_es = np.load(f\"../data/application/results/{model}_cnn_es.npy\")\n",
    "cnn_direct = np.load(f\"../data/application/results/{model}_cnn_es_theta.npy\")\n",
    "cnn_direct_mean = aggregate_direct_estimation(estimation = cnn_direct)"
   ]
  },
  {
   "cell_type": "code",
   "execution_count": null,
   "metadata": {},
   "outputs": [],
   "source": [
    "plt.style.use('seaborn-v0_8-whitegrid')\n",
    "colors = [cmap(0.7), cmap(0.9), cmap(0.1)]\n",
    "labels = [\"June\", \"July\", \"August\"]\n",
    "h = np.arange(0.1,42.5+0.1,0.1)"
   ]
  },
  {
   "cell_type": "code",
   "execution_count": null,
   "metadata": {},
   "outputs": [],
   "source": [
    "h_plot = h * 3.4\n",
    "fig, axs = plt.subplots(3,3, figsize = (25,15))\n",
    "\n",
    "for j in range(3):\n",
    "    for i in range((j*3), (j+1)*3):\n",
    "        # Scatter plot\n",
    "        axs[j,0].scatter(x = cnn_es[i,0], y = cnn_es[i,1], s = 100, edgecolor = \"black\", color = colors[i-3*j], alpha = 0.4)\n",
    "        axs[j,0].set_ylabel(r\"$\\nu$\", fontsize = axsize)\n",
    "        axs[j,0].tick_params(axis='both', labelsize=ticksize)\n",
    "        axs[j,0].set_xlim([0,np.round(cnn_es[:,0].max()+ 1.5,0)])\n",
    "        axs[j,0].set_ylim([0,2])\n",
    "        #axs[j,0].legend(fontsize = legendsize)\n",
    "        \n",
    "\n",
    "        # Sample based extremal coefficient\n",
    "        axs[j,1].plot(h_plot, sample_extremal_coefficient(h, model, cnn_es[i,0], cnn_es[i,1]), lw = lw, color = colors[i-3*j])\n",
    "        axs[j,1].set_ylabel(r\"$\\theta(h)$\", fontsize = axsize)\n",
    "        axs[j,1].tick_params(axis='both', labelsize=ticksize)\n",
    "        axs[j,1].set_ylim([0.98,2.02])\n",
    "        axs[j,1].set_xlim([-0.5,145])\n",
    "\n",
    "        # Direct extremal coefficient\n",
    "        if j == 2:\n",
    "            axs[j,2].plot(h_plot, cnn_direct_mean[i], lw = lw, color = colors[i-3*j], label = labels[i-3*j])\n",
    "        else:\n",
    "            axs[j,2].plot(h_plot, cnn_direct_mean[i], lw = lw, color = colors[i-3*j])\n",
    "        #axs[j,1].set_ylabel(r\"$\\theta(h)$\", fontsize = axsize)\n",
    "        axs[j,2].tick_params(axis='both', labelsize=ticksize)   \n",
    "        axs[j,2].set_ylim([0.98,2.02])\n",
    "        axs[j,2].set_xlim([-0.5,145])\n",
    "\n",
    "axs[0,0].set_title(\"Parameters\", fontsize = titlesize)\n",
    "axs[0,1].set_title(r\"EN$_{\\lambda, \\nu}$\", fontsize = titlesize)\n",
    "axs[0,2].set_title(r\"EN$_{\\theta}$\", fontsize = titlesize)\n",
    "axs[2,0].set_xlabel(r\"$\\lambda$\", fontsize = axsize)\n",
    "axs[2,1].set_xlabel(r\"$h$ [km]\", fontsize = axsize)\n",
    "axs[2,2].set_xlabel(r\"$h$ [km]\", fontsize = axsize)\n",
    "\n",
    "fig.subplots_adjust(bottom=0.1)\n",
    "fig.legend(loc='lower center', ncols = 3, fontsize = axsize)\n",
    "\n",
    "plt.savefig(plot_path + f\"application_estimate_{model}.pdf\", bbox_inches = \"tight\")"
   ]
  },
  {
   "cell_type": "markdown",
   "metadata": {},
   "source": [
    "# F-Madogram"
   ]
  },
  {
   "cell_type": "code",
   "execution_count": null,
   "metadata": {},
   "outputs": [],
   "source": [
    "path = \"../data/application/data/\"\n",
    "\n",
    "# Load test data\n",
    "data_prev = xr.open_dataset(path + \"1931_2020_month_max.nc\").isel(time = slice(240, 270))\n",
    "for year in range(2011, 2021):\n",
    "    data_prev.loc[dict(time = str(year))] = gev2frech(data_prev.loc[dict(time = str(year))], year = year)\n",
    "data_2021 = gev2frech(xr.open_dataset(path + \"2021_month_max.nc\"), year = 2021)\n",
    "data_2022 = gev2frech(xr.open_dataset(path + \"2022_month_max.nc\"), year = 2022)\n",
    "data_2023 = gev2frech(xr.open_dataset(path + \"2023_month_max.nc\"), year = 2023)\n",
    "data_full = xr.concat([data_prev, data_2021, data_2022, data_2023], dim = \"time\")\n",
    "data_new = xr.concat([data_2021, data_2022, data_2023], dim = \"time\")\n",
    "grid = xr.open_dataset(path + \"grid.nc\").grid.data\n",
    "\n",
    "#Test\n",
    "data_madogram_full = data_full.pr.data.reshape((data_full.time.shape[0], -1))\n",
    "data_madogram_new = data_new.pr.data.reshape((data_new.time.shape[0], -1))"
   ]
  },
  {
   "cell_type": "code",
   "execution_count": null,
   "metadata": {},
   "outputs": [],
   "source": [
    "# 2021 - 2023\n",
    "n_sim = int(900*899/2)\n",
    "result = np.zeros(shape = (n_sim,2))\n",
    "cnt = 0\n",
    "for i in range(899):\n",
    "    for j in range((i+1),900):\n",
    "        h = np.sqrt(np.sum(np.power(grid[:,i] - grid[:,j],2)))\n",
    "        vf = f_madogram(data_madogram_new[:,i:i+1], data_madogram_new[:,j:j+1])\n",
    "        result[cnt,0] = h\n",
    "        result[cnt,1] = (1 +2*vf)/(1-2*vf)\n",
    "        cnt += 1\n",
    "\n",
    "bins = np.linspace(0,42.5,1000)\n",
    "ind = np.digitize(result[:,0], bins)\n",
    "bin_means = np.array([result[ind == i,1].mean() for i in range(len(bins))])"
   ]
  },
  {
   "cell_type": "code",
   "execution_count": null,
   "metadata": {},
   "outputs": [],
   "source": [
    "# 2011 - 2023\n",
    "n_sim = int(900*899/2)\n",
    "result = np.zeros(shape = (n_sim,2))\n",
    "cnt = 0\n",
    "for i in range(899):\n",
    "    for j in range((i+1),900):\n",
    "        h = np.sqrt(np.sum(np.power(grid[:,i] - grid[:,j],2)))\n",
    "        vf = f_madogram(data_madogram_full[:,i:i+1], data_madogram_full[:,j:j+1])\n",
    "        result[cnt,0] = h\n",
    "        result[cnt,1] = (1 +2*vf)/(1-2*vf)\n",
    "        cnt += 1\n",
    "\n",
    "bins = np.linspace(0,42.5,1000)\n",
    "ind = np.digitize(result[:,0], bins)\n",
    "bin_means_full = np.array([result[ind == i,1].mean() for i in range(len(bins))])"
   ]
  },
  {
   "cell_type": "code",
   "execution_count": null,
   "metadata": {},
   "outputs": [],
   "source": [
    "colors = {\"True\" : \"black\", \"PL\": cmap(0.65), \"ABC\": cmap(0.75), \"CNN\": cmap(0.3), \"CNN_ES\": cmap(0.1), \"CNN_direct\": cmap(0.95)}\n",
    "\n",
    "model = \"whitmat\"\n",
    "cnn_es = np.load(f\"../data/application/results/{model}_cnn_es.npy\")\n",
    "pl = pyreadr.read_r(f\"../data/application/results/{model}_pl.RData\")[\"results\"].to_numpy()[:,0:2]\n",
    "cnn_direct = np.load(f\"../data/application/results/{model}_cnn_es_theta.npy\")\n",
    "cnn_direct_mean = aggregate_direct_estimation(estimation = cnn_direct)"
   ]
  },
  {
   "cell_type": "code",
   "execution_count": null,
   "metadata": {},
   "outputs": [],
   "source": [
    "h = np.arange(0.1,42.5+0.1,0.1)\n",
    "h_plot = h * 3.4\n",
    "results = [bin_means, bin_means_full]\n",
    "fig, axs = plt.subplots(1, 2, figsize = (24,5))\n",
    "for i, bin in enumerate(results):\n",
    "    axs[i].scatter(bins*3.4, bin, color = \"black\", s = 55, alpha = 0.9)\n",
    "\n",
    "    # PL\n",
    "    axs[i].plot(h_plot, np.nan_to_num(sample_extremal_coefficient(h, model, pl[:,0].flatten(), pl[:,1].flatten()), nan = 1+ np.sqrt(1/2)), lw = 6, color = colors[\"PL\"], label = \"PL\")\n",
    "    #CNN ES\n",
    "    axs[i].plot(h_plot, sample_extremal_coefficient(h, model, cnn_es[:,0].flatten(), cnn_es[:,1].flatten()), lw = 6, color = colors[\"CNN_ES\"], label = r\"EN$_{\\lambda, \\nu}$\")\n",
    "    # CNN direct\n",
    "    axs[i].plot(h_plot, cnn_direct_mean.mean(axis = 0), lw = 6, color = colors[\"CNN_direct\"], label = r\"EN$_{\\theta}$\") \n",
    "    axs[i].set_ylim([0.98,1.8])\n",
    "    axs[i].set_xlim([-0.5, 145])\n",
    "    axs[i].tick_params(axis='both', labelsize=ticksize)\n",
    "    axs[i].set_ylabel(r\"$\\hat{\\theta}(h)$\", fontsize = axsize)\n",
    "    axs[i].set_xlabel(r\"$h$ [km]\", fontsize = axsize)\n",
    "    axs[i].legend(fontsize = legendsize, loc = \"best\")\n",
    "\n",
    "axs[0].set_title(\"2021-2023\", fontsize = titlesize)\n",
    "axs[1].set_title(\"2011-2023\", fontsize = titlesize)\n",
    "\n",
    "plt.savefig(plot_path + f\"madogram_estimate_{model}.png\", bbox_inches = \"tight\")"
   ]
  },
  {
   "cell_type": "markdown",
   "metadata": {},
   "source": [
    "## Estimated spatial dependence"
   ]
  },
  {
   "cell_type": "code",
   "execution_count": null,
   "metadata": {},
   "outputs": [],
   "source": [
    "model = \"powexp\"\n",
    "cnn_es = np.load(f\"../data/application/results/{model}_cnn_es.npy\")[1:2]\n",
    "cnn_direct = np.load(f\"../data/application/results/{model}_cnn_es_theta.npy\")[1:2]\n",
    "cnn_direct_mean = aggregate_direct_estimation(estimation = cnn_direct)"
   ]
  },
  {
   "cell_type": "code",
   "execution_count": null,
   "metadata": {},
   "outputs": [],
   "source": [
    "h = np.arange(0.1,42.5+0.1,0.1)\n",
    "h_plot = h * 3.4\n",
    "fig, axs = plt.subplots(figsize = (12,6))\n",
    "axs.scatter(bins*3.4, bin_means_full, color = \"black\", s = 55, alpha = 0.2)\n",
    "\n",
    "#CNN ES\n",
    "axs.plot(h_plot, sample_extremal_coefficient(h, model, cnn_es[:,0].flatten(), cnn_es[:,1].flatten()), lw = 6, color = cmap(0.1), label = \"Mean estimate\")\n",
    "quantiles_1 = np.quantile(sample_extremal_coefficient(h, model, cnn_es[:,0].flatten(), cnn_es[:,1].flatten(),  mean = False), q = [0.025,0.975], axis = 0)\n",
    "quantiles_2 = np.quantile(sample_extremal_coefficient(h, model, cnn_es[:,0].flatten(), cnn_es[:,1].flatten(),  mean = False), q = [0.25,0.75], axis = 0)\n",
    "\n",
    "axs.plot(h_plot, quantiles_2[0], color = cmap(0.75), lw = 4, label = \"50% prediction interval\", alpha = 0.8)\n",
    "axs.plot(h_plot, quantiles_2[1], color = cmap(0.75), lw = 4, alpha = 0.8)\n",
    "axs.fill_between(h_plot, quantiles_2[0], quantiles_2[1], alpha=0.15, color = cmap(0.75))\n",
    "\n",
    "axs.plot(h_plot, quantiles_1[0], color = cmap(0.65), lw = 4, label = \"95% prediction interval\", alpha = 0.8)\n",
    "axs.plot(h_plot, quantiles_1[1], color = cmap(0.65), lw = 4, alpha = 0.8)\n",
    "axs.fill_between(h_plot, quantiles_1[0], quantiles_1[1], alpha=0.15, color = cmap(0.65))\n",
    "\n",
    "axs.set_ylim([0.98,1.85])\n",
    "axs.set_xlim([-0.5, 145])\n",
    "axs.tick_params(axis='both', labelsize=ticksize)\n",
    "axs.set_ylabel(r\"$\\hat{\\theta}(h)$\", fontsize = axsize)\n",
    "axs.set_xlabel(r\"$h$ [km]\", fontsize = axsize)\n",
    "axs.legend(fontsize = legendsize, loc = \"best\")\n",
    "\n",
    "axs.set_title(r\"EN$_{\\lambda, \\nu}$\", fontsize = titlesize)\n",
    "\n",
    "plt.savefig(plot_path + f\"estimate_uncertainty_es.png\", bbox_inches = \"tight\")"
   ]
  },
  {
   "cell_type": "code",
   "execution_count": null,
   "metadata": {},
   "outputs": [],
   "source": [
    "np.arange(0.1,42.5+0.1,0.1)\n",
    "h_plot = h * 3.4\n",
    "fig, axs = plt.subplots(figsize = (12,6))\n",
    "axs.scatter(bins*3.4, bin_means_full, color = \"black\", s = 55, alpha = 0.2)\n",
    "\n",
    "#CNN direct\n",
    "axs.plot(h_plot, cnn_direct_mean.mean(axis = 0), lw = 6, color = cmap(0.1), label = \"Mean estimate\")\n",
    "quantiles_1 = [aggregate_direct_estimation(cnn_direct, q = 0.025, type = \"quantile\").mean(axis=0), aggregate_direct_estimation(cnn_direct, q = 0.975, type = \"quantile\").mean(axis=0)]\n",
    "quantiles_2 = [aggregate_direct_estimation(cnn_direct, q = 0.25, type = \"quantile\").mean(axis=0), aggregate_direct_estimation(cnn_direct, q = 0.75, type = \"quantile\").mean(axis=0)]\n",
    "\n",
    "axs.plot(h_plot, quantiles_2[0], color = cmap(0.75), lw = 4, label = \"50% prediction interval\", alpha = 0.8)\n",
    "axs.plot(h_plot, quantiles_2[1], color = cmap(0.75), lw = 4, alpha = 0.8)\n",
    "axs.fill_between(h_plot, quantiles_2[0], quantiles_2[1], alpha=0.15, color = cmap(0.75))\n",
    "\n",
    "axs.plot(h_plot, quantiles_1[0], color = cmap(0.65), lw = 4, label = \"95% prediction interval\", alpha = 0.8)\n",
    "axs.plot(h_plot, quantiles_1[1], color = cmap(0.65), lw = 4, alpha = 0.8)\n",
    "axs.fill_between(h_plot, quantiles_1[0], quantiles_1[1], alpha=0.15, color = cmap(0.65))\n",
    "\n",
    "axs.set_ylim([0.98,1.85])\n",
    "axs.set_xlim([-0.5, 145])\n",
    "axs.tick_params(axis='both', labelsize=ticksize)\n",
    "axs.set_ylabel(r\"$\\hat{\\theta}(h)$\", fontsize = axsize)\n",
    "axs.set_xlabel(r\"$h$ [km]\", fontsize = axsize)\n",
    "axs.legend(fontsize = legendsize, loc = \"best\")\n",
    "\n",
    "axs.set_title(r\"EN$_{\\theta}$\", fontsize = titlesize)\n",
    "\n",
    "plt.savefig(plot_path + f\"estimate_uncertainty_direct.png\", bbox_inches = \"tight\")"
   ]
  },
  {
   "cell_type": "markdown",
   "metadata": {},
   "source": [
    "# Process simulations"
   ]
  },
  {
   "cell_type": "code",
   "execution_count": null,
   "metadata": {},
   "outputs": [],
   "source": [
    "path = \"../data/application/data/\"\n",
    "\n",
    "lons = np.linspace(6.38,7.48,30)\n",
    "lats = np.linspace(50.27,50.97,30)\n",
    "lon2d, lat2d = np.meshgrid(lons, lats)"
   ]
  },
  {
   "cell_type": "code",
   "execution_count": null,
   "metadata": {},
   "outputs": [],
   "source": [
    "june = pyreadr.read_r(path+f\"simulations_June2022.RData\")[\"simulated_field\"].to_numpy()\n",
    "july = pyreadr.read_r(path+f\"simulations_July2022.RData\")[\"simulated_field\"].to_numpy()\n",
    "august = pyreadr.read_r(path+f\"simulations_August2022.RData\")[\"simulated_field\"].to_numpy()"
   ]
  },
  {
   "cell_type": "code",
   "execution_count": null,
   "metadata": {},
   "outputs": [],
   "source": [
    "data = np.concatenate([np.reshape(june, (30,30,-1)), np.reshape(july, (30,30,-1)), np.reshape(august, (30,30,-1))], axis = 2)\n",
    "data = data.reshape(30,30,10,3)"
   ]
  },
  {
   "cell_type": "code",
   "execution_count": null,
   "metadata": {},
   "outputs": [],
   "source": [
    "for j in range(3):\n",
    "    fig, axs = plt.subplots(1, 3, subplot_kw={'projection': ccrs.PlateCarree()},figsize=(22,5))\n",
    "    months = [\"June\", \"Jul\", \"August\"]\n",
    "\n",
    "    for i in range(3):\n",
    "        samples = np.random.randint(0,10,3)\n",
    "        data_transformed = frech2gev(data[:,:,samples[i],i], year = 2022)\n",
    "        ger_shape = list(shpreader.Reader(path+\"ger_shape/gadm41_DEU_3.shp\").geometries())\n",
    "        axs[i].add_geometries(ger_shape, ccrs.PlateCarree(),\n",
    "                        edgecolor='black', facecolor = \"None\", lw = 0.3)\n",
    "        pcm = axs[i].pcolormesh(lons, lats, data_transformed)\n",
    "        cb = fig.colorbar(pcm, ax=axs[i],  pad = 0.01, shrink = 10, aspect = 5.14)\n",
    "        cb.set_label(label=\"Total precipitation [mm]\",size=18)\n",
    "        cb.ax.tick_params(labelsize=16)\n",
    "        plot_cities(axs[i])\n",
    "        axs[i].set_title(f\"{months[i]}\", fontsize = fontsize)\n",
    "        gl = axs[i].gridlines(draw_labels=True)\n",
    "        gl.top_labels = False\n",
    "        gl.right_labels = False\n",
    "        gl.xlines = False\n",
    "        gl.ylines = False\n",
    "        if i > 0:\n",
    "            gl.left_labels = False\n",
    "        gl.xlabel_style = {'size': ticksize}\n",
    "        gl.ylabel_style = {'size': ticksize}\n",
    "        axs[i].set_aspect(\"auto\")\n",
    "\n",
    "\n",
    "    plt.savefig(plot_path + f\"2022_tp_estimates_{j+1}.png\", bbox_inches = \"tight\")"
   ]
  },
  {
   "cell_type": "code",
   "execution_count": null,
   "metadata": {},
   "outputs": [],
   "source": []
  }
 ],
 "metadata": {
  "kernelspec": {
   "display_name": "ma",
   "language": "python",
   "name": "python3"
  },
  "language_info": {
   "codemirror_mode": {
    "name": "ipython",
    "version": 3
   },
   "file_extension": ".py",
   "mimetype": "text/x-python",
   "name": "python",
   "nbconvert_exporter": "python",
   "pygments_lexer": "ipython3",
   "version": "3.11.5"
  }
 },
 "nbformat": 4,
 "nbformat_minor": 2
}
